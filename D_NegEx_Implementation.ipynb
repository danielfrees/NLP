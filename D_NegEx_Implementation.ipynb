{
 "cells": [
  {
   "cell_type": "code",
   "execution_count": 26,
   "metadata": {},
   "outputs": [
    {
     "name": "stdout",
     "output_type": "stream",
     "text": [
      "['/home/dfrees', '/home/dfrees/.conda/envs/ehr/lib/python37.zip', '/home/dfrees/.conda/envs/ehr/lib/python3.7', '/home/dfrees/.conda/envs/ehr/lib/python3.7/lib-dynload', '', '/home/dfrees/.conda/envs/ehr/lib/python3.7/site-packages', '/home/dfrees/.conda/envs/ehr/lib/python3.7/site-packages/IPython/extensions', '/home/dfrees/.ipython', '/home/dfrees/projects/context/']\n"
     ]
    }
   ],
   "source": [
    "import sys\n",
    "print(sys.path)\n"
   ]
  },
  {
   "cell_type": "markdown",
   "metadata": {},
   "source": [
    "## Basic Imports"
   ]
  },
  {
   "cell_type": "code",
   "execution_count": 35,
   "metadata": {},
   "outputs": [
    {
     "name": "stdout",
     "output_type": "stream",
     "text": [
      "<module 'context.reader' from '/home/dfrees/projects/context/context/reader.py'>\n"
     ]
    }
   ],
   "source": [
    "import spacy as spacy\n",
    "from spacy.lang.es import Spanish\n",
    "from spacy.pipeline import EntityRuler\n",
    "\n",
    "from context import reader"
   ]
  },
  {
   "cell_type": "markdown",
   "metadata": {},
   "source": [
    "## Set up Entity Ruler Patterns"
   ]
  },
  {
   "cell_type": "code",
   "execution_count": 28,
   "metadata": {},
   "outputs": [],
   "source": [
    "#Update entity patterns with selected negation and pseudo-negation terms. \n",
    "\n",
    "#Use patterns specific to your application.\n",
    "#For me, electronic health records en español.\n",
    "\n",
    "#patterns added to spaCy's EntityRuler using a list of dictionaries specifying desired label\n",
    "#and patterns for each label\n",
    "\n",
    "#Future Update: Ignore capitalization\n",
    "\n",
    "nlp = spacy.load(\"es_core_news_md\")\n",
    "ruler = EntityRuler(nlp)\n",
    "\n",
    "#pseudo-negation terms...\n",
    "ruler.add_patterns([{\"label\": \"PNEG\", \"pattern\": \"sin aumento\"},\n",
    "{\"label\": \"PNEG\", \"pattern\": \"ningún cambio\"},\n",
    "{\"label\": \"PNEG\", \"pattern\": \"sin cambios sospechosos\"},\n",
    "{\"label\": \"PNEG\", \"pattern\": \"ningún cambio significativo\"},\n",
    "{\"label\": \"PNEG\", \"pattern\": \"sin cambio de intervalo\"},\n",
    "{\"label\": \"PNEG\", \"pattern\": \"sin cambio definitivo\"},\n",
    "{\"label\": \"PNEG\", \"pattern\": \"no se extiende\"},\n",
    "{\"label\": \"PNEG\", \"pattern\": \"no causa\"},\n",
    "{\"label\": \"PNEG\", \"pattern\": \"no drena\"},\n",
    "{\"label\": \"PNEG\", \"pattern\": \"cambio de intervalo no significativo\"},\n",
    "{\"label\": \"PNEG\", \"pattern\": \"no estoy seguro si\"},\n",
    "{\"label\": \"PNEG\", \"pattern\": \"no estoy seguro de si\"},\n",
    "{\"label\": \"PNEG\", \"pattern\": \"gram negativo\"},\n",
    "{\"label\": \"PNEG\", \"pattern\": \"sin dificultad\"},\n",
    "{\"label\": \"PNEG\", \"pattern\": \"no necesariamente\"},\n",
    "{\"label\": \"PNEG\", \"pattern\": \"no solo\"},\n",
    "{\"label\": \"PNEG\", \"pattern\": \"duda\"},\n",
    "{\"label\": \"PNEG\", \"pattern\": \"tengo dudas\"},\n",
    "{\"label\": \"PNEG\", \"pattern\": \"dudo\"}\n",
    "])\n",
    "\n",
    "\n",
    "#negation terms...\n",
    "\n",
    "ruler.add_patterns([{\"label\": \"NEG\", \"pattern\": \"ausencia de\"},\n",
    "{\"label\": \"NEG\", \"pattern\": \"no pueden ver\"},\n",
    "{\"label\": \"NEG\", \"pattern\": \"no poder\"},\n",
    "{\"label\": \"NEG\", \"pattern\": \"revisado para\"},\n",
    "{\"label\": \"NEG\", \"pattern\": \"rechazado\"},\n",
    "{\"label\": \"NEG\", \"pattern\": \"declina\"},\n",
    "{\"label\": \"NEG\", \"pattern\": \"negado\"},\n",
    "{\"label\": \"NEG\", \"pattern\": \"niega\"},\n",
    "{\"label\": \"NEG\", \"pattern\": \"negando\"},\n",
    "{\"label\": \"NEG\", \"pattern\": \"evaluar por\"},\n",
    "{\"label\": \"NEG\", \"pattern\": \"no revela\"},\n",
    "{\"label\": \"NEG\", \"pattern\": \"libre de\"},\n",
    "{\"label\": \"NEG\", \"pattern\": \"negativo para\"},\n",
    "{\"label\": \"NEG\", \"pattern\": \"nunca desarrollado\"},\n",
    "{\"label\": \"NEG\", \"pattern\": \"nunca tuve\"},\n",
    "{\"label\": \"NEG\", \"pattern\": \"no\"},\n",
    "{\"label\": \"NEG\", \"pattern\": \"no anormal\"},\n",
    "{\"label\": \"NEG\", \"pattern\": \"ninguna causa de\"},\n",
    "{\"label\": \"NEG\", \"pattern\": \"sin quejas de\"},\n",
    "{\"label\": \"NEG\", \"pattern\": \"sin evidencia\"},\n",
    "{\"label\": \"NEG\", \"pattern\": \"ninguna nueva evidencia\"},\n",
    "{\"label\": \"NEG\", \"pattern\": \"ninguna otra evidencia\"},\n",
    "{\"label\": \"NEG\", \"pattern\": \"ninguna evidencia para sugerir\"},\n",
    "{\"label\": \"NEG\", \"pattern\": \"sin hallazgos de\"},\n",
    "{\"label\": \"NEG\", \"pattern\": \"no hay hallazgos para indicar\"},\n",
    "{\"label\": \"NEG\", \"pattern\": \"no hay evidencia mamográfica de  \"},\n",
    "{\"label\": \"NEG\", \"pattern\": \"nada nuevo\"},\n",
    "{\"label\": \"NEG\", \"pattern\": \"ninguna evidencia radiográfica de\"},\n",
    "{\"label\": \"NEG\", \"pattern\": \"ninguna señal de\"},\n",
    "{\"label\": \"NEG\", \"pattern\": \"no significativo\"},\n",
    "{\"label\": \"NEG\", \"pattern\": \"sin signos de\"},\n",
    "{\"label\": \"NEG\", \"pattern\": \"ninguna sugerencia de\"},\n",
    "{\"label\": \"NEG\", \"pattern\": \"no sospechoso\"},\n",
    "{\"label\": \"NEG\", \"pattern\": \"no aparece\"},\n",
    "{\"label\": \"NEG\", \"pattern\": \"no apreciar\"},\n",
    "{\"label\": \"NEG\", \"pattern\": \"no asociado con\"},\n",
    "{\"label\": \"NEG\", \"pattern\": \"no me quejo de\"},\n",
    "{\"label\": \"NEG\", \"pattern\": \"no demostrar\"},\n",
    "{\"label\": \"NEG\", \"pattern\": \"no exhibir\"},\n",
    "{\"label\": \"NEG\", \"pattern\": \"no sentir\"},\n",
    "{\"label\": \"NEG\", \"pattern\": \"no tenía\"},\n",
    "{\"label\": \"NEG\", \"pattern\": \"no tengo\"},\n",
    "{\"label\": \"NEG\", \"pattern\": \"no saber de\"},\n",
    "{\"label\": \"NEG\", \"pattern\": \"no se sabe que tiene\"},\n",
    "{\"label\": \"NEG\", \"pattern\": \"no revelar\"},\n",
    "{\"label\": \"NEG\", \"pattern\": \"no ver\"},\n",
    "{\"label\": \"NEG\", \"pattern\": \"no ser\"},\n",
    "{\"label\": \"NEG\", \"pattern\": \"paciente no era\"},\n",
    "{\"label\": \"NEG\", \"pattern\": \"más bien que\"},\n",
    "{\"label\": \"NEG\", \"pattern\": \"resuelto\"},\n",
    "{\"label\": \"NEG\", \"pattern\": \"hacer una prueba por\"},\n",
    "{\"label\": \"NEG\", \"pattern\": \"excluir\"},\n",
    "{\"label\": \"NEG\", \"pattern\": \"nada especial para\"},\n",
    "{\"label\": \"NEG\", \"pattern\": \"con ningún\"},\n",
    "{\"label\": \"NEG\", \"pattern\": \"sin ninguna evidencia de\"},\n",
    "{\"label\": \"NEG\", \"pattern\": \"sin evidencia\"},\n",
    "{\"label\": \"NEG\", \"pattern\": \"sin indicación de\"},\n",
    "{\"label\": \"NEG\", \"pattern\": \"sin signo de\"},\n",
    "{\"label\": \"NEG\", \"pattern\": \"sin\"},\n",
    "{\"label\": \"NEG\", \"pattern\": \"descartar para\"},\n",
    "{\"label\": \"NEG\", \"pattern\": \"descartarlo por\"},\n",
    "{\"label\": \"NEG\", \"pattern\": \"descartarla por\"},\n",
    "{\"label\": \"NEG\", \"pattern\": \"descartar al paciente por\"},\n",
    "{\"label\": \"NEG\", \"pattern\": \"descartarlo\"},\n",
    "{\"label\": \"NEG\", \"pattern\": \"descartarla\"},\n",
    "{\"label\": \"NEG\", \"pattern\": \"descartar\"},\n",
    "{\"label\": \"NEG\", \"pattern\": \"r / o\"},\n",
    "{\"label\": \"NEG\", \"pattern\": \"ro\"},\n",
    "{\"label\": \"NEG\", \"pattern\": \"descartar al paciente\"},\n",
    "{\"label\": \"NEG\", \"pattern\": \"excluye\"},\n",
    "{\"label\": \"NEG\", \"pattern\": \"lo descarta\"},\n",
    "{\"label\": \"NEG\", \"pattern\": \"la excluye\"},\n",
    "{\"label\": \"NEG\", \"pattern\": \"expulsó al paciente por\"},\n",
    "{\"label\": \"NEG\", \"pattern\": \"gobierna al paciente\"},\n",
    "{\"label\": \"NEG\", \"pattern\": \"lo descartó contra\"},\n",
    "{\"label\": \"NEG\", \"pattern\": \"la descartó contra\"},\n",
    "{\"label\": \"NEG\", \"pattern\": \"lo descartó\"},\n",
    "{\"label\": \"NEG\", \"pattern\": \"la descartó\"},\n",
    "{\"label\": \"NEG\", \"pattern\": \"descartado contra\"},\n",
    "{\"label\": \"NEG\", \"pattern\": \"descartó al paciente contra \"},\n",
    "{\"label\": \"NEG\", \"pattern\": \"descartaron para\"},\n",
    "{\"label\": \"NEG\", \"pattern\": \"descartaron contra\"},\n",
    "{\"label\": \"NEG\", \"pattern\": \"descartó\"},\n",
    "{\"label\": \"NEG\", \"pattern\": \"lo descartaron por\"},\n",
    "{\"label\": \"NEG\", \"pattern\": \"lo descartaron en contra\"},\n",
    "{\"label\": \"NEG\", \"pattern\": \"lo descartaron\"},\n",
    "{\"label\": \"NEG\", \"pattern\": \"la descartaron por\"},\n",
    "{\"label\": \"NEG\", \"pattern\": \"lo descartó contra\"},\n",
    "{\"label\": \"NEG\", \"pattern\": \"lo descartó\"},\n",
    "{\"label\": \"NEG\", \"pattern\": \"descartaron al paciente contra\"},\n",
    "{\"label\": \"NEG\", \"pattern\": \"descartaron al paciente por\"},\n",
    "{\"label\": \"NEG\", \"pattern\": \"descartó al paciente\"},\n",
    "{\"label\": \"NEG\", \"pattern\": \"puede descartar\"},\n",
    "{\"label\": \"NEG\", \"pattern\": \"puede descartar contra\"},\n",
    "{\"label\": \"NEG\", \"pattern\": \"puede descartarlo por\"},\n",
    "{\"label\": \"NEG\", \"pattern\": \"puede descartarlo en contra\"},\n",
    "{\"label\": \"NEG\", \"pattern\": \"puede descartarlo\"},\n",
    "{\"label\": \"NEG\", \"pattern\": \"puede descartarla por\"},\n",
    "{\"label\": \"NEG\", \"pattern\": \"puede descartarla contra\"},\n",
    "{\"label\": \"NEG\", \"pattern\": \"puede descartarla\"},\n",
    "{\"label\": \"NEG\", \"pattern\": \"puede descartar al paciente por\"},\n",
    "{\"label\": \"NEG\", \"pattern\": \"puede descartar al paciente contra\"},\n",
    "{\"label\": \"NEG\", \"pattern\": \"puede descartar al paciente\"},\n",
    "{\"label\": \"NEG\", \"pattern\": \"adecuado para descartar\"},\n",
    "{\"label\": \"NEG\", \"pattern\": \"adecuado para descartar\"}, \n",
    "{\"label\": \"NEG\", \"pattern\": \"adecuado para descartarlo por\"},\n",
    "{\"label\": \"NEG\", \"pattern\": \"adecuado para descartarlo\"},\n",
    "{\"label\": \"NEG\", \"pattern\": \"adecuado para descartarla por\"},\n",
    "{\"label\": \"NEG\", \"pattern\": \"adecuado para descartarla\"},\n",
    "{\"label\": \"NEG\", \"pattern\": \"adecuado para descartar al paciente por\"},\n",
    "{\"label\": \"NEG\", \"pattern\": \"adecuado para descartar al paciente contra\"},\n",
    "{\"label\": \"NEG\", \"pattern\": \"adecuado para descartar al paciente\"},\n",
    "{\"label\": \"NEG\", \"pattern\": \"suficiente para descartar\"},\n",
    "{\"label\": \"NEG\", \"pattern\": \"suficiente para descartarlo por\"},\n",
    "{\"label\": \"NEG\", \"pattern\": \"suficiente para descartarlo en contra\"},\n",
    "{\"label\": \"NEG\", \"pattern\": \"suficiente para descartarlo\"},\n",
    "{\"label\": \"NEG\", \"pattern\": \"suficiente para descartarla por\"},\n",
    "{\"label\": \"NEG\", \"pattern\": \"suficiente para descartarla en contra\"},\n",
    "{\"label\": \"NEG\", \"pattern\": \"suficiente para descartarla\"},\n",
    "{\"label\": \"NEG\", \"pattern\": \"suficiente para descartar al paciente por\"},\n",
    "{\"label\": \"NEG\", \"pattern\": \"suficiente para descartar al paciente contra\"},\n",
    "{\"label\": \"NEG\", \"pattern\": \"suficiente para descartar al paciente\"}])\n",
    "nlp.add_pipe(ruler)"
   ]
  },
  {
   "cell_type": "markdown",
   "metadata": {},
   "source": [
    "## Actual Function (To be improved upon in future iterations)"
   ]
  },
  {
   "cell_type": "code",
   "execution_count": 30,
   "metadata": {},
   "outputs": [],
   "source": [
    "#Use entity patterns to implement negation (future update: and pseudo-negation)\n",
    "#Negation acts forward 5 tokens\n",
    "\n",
    "#Future update?: Reverse negation terms with reverse scope\n",
    "\n",
    "#Currently does NOT care about end of sentences, does NOT deal with context, does NOT include pseduo or\n",
    "#reverse negations\n",
    "\n",
    "spacy.tokens.Token.set_extension( \"negation\", default = \"affirmed\", force=True)\n",
    "\n",
    "def negEx (doc, range = 5):\n",
    "    for sentence in doc.sents:\n",
    "        for ent in sentence.ents:\n",
    "            #if pseudo\n",
    "            #short circuit, don't check for negation entities following (range)\n",
    "            #above pseduocode might be unnecessary\n",
    "            if ent.label_ == \"NEG\":\n",
    "                for token in doc[ent.end:(ent.end + range)]:\n",
    "                    token._.negation = \"negated\"               \n",
    "    return doc\n",
    "\n",
    "#nlp.remove_pipe(\"NegEx\")\n",
    "nlp.add_pipe(negEx, \"NegEx\", last = True)"
   ]
  },
  {
   "cell_type": "markdown",
   "metadata": {},
   "source": [
    "## Testing Section:"
   ]
  },
  {
   "cell_type": "markdown",
   "metadata": {},
   "source": [
    "From NUBes Annotated Negation Database: \"sample-003.ginec.preil.txt\""
   ]
  },
  {
   "cell_type": "code",
   "execution_count": 31,
   "metadata": {},
   "outputs": [],
   "source": [
    "\n",
    "\n",
    "line1 = nlp(\"Utero miomatoso , dolor pelvico , hipermenorrea que no responden al tto con Mirena.\")\n",
    "line2 = nlp(\"Ingresa para ligadura tubarica\")\n",
    "line3 = nlp(\"Quiste de ovario drcho de 7 cm de diametro sugestivo de endometrioma .Dismenorrea.Dolor pelvico .\")\n",
    "line4 = nlp(\"Metrorragia postmenopausica.Engrosamiento endometrial .\")\n",
    "line5 = nlp(\"transtornos mestruales metrorragia intermenstrual polipo endometrial dx en histeroscopia previa\")\n",
    "line6 = nlp(\"FUR : 1/04/20 metrorragia de 3 semanas de evolucion ecgrafia vaginal : aspecto de huevo huero\")\n",
    "line7 = nlp(\"leucorrea ocasional endometrio engrosado en ecografia\")\n",
    "line8 = nlp(\"Utero hipertrofico con mioma de 12 cm de diametro , anemia .\")\n",
    "line9 = nlp(\"Spotting intermenstrual , sospecha ecografica de polipo endometrial .\")\n",
    "line10 = nlp(\"hipermenorrea anemia , mioma uterino\")\n",
    "line11 = nlp(\"utero bicorne antec de hiperplasia glandular endometrial. sospecha de polipo endometrial .\")\n",
    "line12 = nlp(\"hipermenorrea anemia mioma submucoso que no responde al tto médico\")\n",
    "line13 = nlp(\"utero hipertrofico + + + polimiomatoso\")\n",
    "line14= nlp(\"Quiste pared vaginal posterior .\")\n",
    "line15 = nlp(\"Prolapso genital C4H3R1 , no asociado a incontinencia urinaria .\")\n",
    "line16 = nlp(\"Hipermenorrea , anemia .Utero miomatoso , mioma intramural de 7 cm de diametro.En tto con acetato de ulipristal durante los 3 meses previos a la intervencion quirurgica .\")\n",
    "line17 = nlp(\"Dolor pelvico cronico.Dismenorrea de agravacion progresiva ingresa para laparoscopia dx\")\n",
    "line18 = nlp(\"DIU intrautero , con varios intentos previos para retirarlo sin conseguirlo .\")\n",
    "line19 = nlp(\"metrorragia postmenopausica tras 2 años de amenorrea\")\n",
    "line20 = nlp(\"Hipermenorrea , anemia , gestágenos mal tolerados\")\n",
    "\n",
    "\n",
    "#----> one doc might be useful... later discuss how to format NUBes data automatically to be more useful with our pipeline\n"
   ]
  },
  {
   "cell_type": "code",
   "execution_count": 32,
   "metadata": {},
   "outputs": [
    {
     "data": {
      "text/html": [
       "<span class=\"tex2jax_ignore\"><div class=\"entities\" style=\"line-height: 2.5; direction: ltr\">Utero miomatoso , dolor pelvico , hipermenorrea que \n",
       "<mark class=\"entity\" style=\"background: #ddd; padding: 0.45em 0.6em; margin: 0 0.25em; line-height: 1; border-radius: 0.35em;\">\n",
       "    no\n",
       "    <span style=\"font-size: 0.8em; font-weight: bold; line-height: 1; border-radius: 0.35em; text-transform: uppercase; vertical-align: middle; margin-left: 0.5rem\">NEG</span>\n",
       "</mark>\n",
       " responden al tto con \n",
       "<mark class=\"entity\" style=\"background: #ddd; padding: 0.45em 0.6em; margin: 0 0.25em; line-height: 1; border-radius: 0.35em;\">\n",
       "    Mirena\n",
       "    <span style=\"font-size: 0.8em; font-weight: bold; line-height: 1; border-radius: 0.35em; text-transform: uppercase; vertical-align: middle; margin-left: 0.5rem\">PER</span>\n",
       "</mark>\n",
       ".</div></span>"
      ],
      "text/plain": [
       "<IPython.core.display.HTML object>"
      ]
     },
     "metadata": {},
     "output_type": "display_data"
    },
    {
     "name": "stdout",
     "output_type": "stream",
     "text": [
      "The following tokens are negated in test1:\n",
      "responden\n",
      "al\n",
      "tto\n",
      "con\n",
      "Mirena\n"
     ]
    },
    {
     "name": "stderr",
     "output_type": "stream",
     "text": [
      "/home/dfrees/.conda/envs/ehr/lib/python3.7/site-packages/spacy/displacy/__init__.py:189: UserWarning: [W006] No entities to visualize found in Doc object. If this is surprising to you, make sure the Doc was processed using a model that supports named entity recognition, and check the `doc.ents` property manually if necessary.\n",
      "  warnings.warn(Warnings.W006)\n"
     ]
    },
    {
     "data": {
      "text/html": [
       "<span class=\"tex2jax_ignore\"><div class=\"entities\" style=\"line-height: 2.5; direction: ltr\">Ingresa para ligadura tubarica</div></span>"
      ],
      "text/plain": [
       "<IPython.core.display.HTML object>"
      ]
     },
     "metadata": {},
     "output_type": "display_data"
    },
    {
     "name": "stdout",
     "output_type": "stream",
     "text": [
      "The following tokens are negated in test2:\n",
      "No negations in test 2\n"
     ]
    },
    {
     "data": {
      "text/html": [
       "<span class=\"tex2jax_ignore\"><div class=\"entities\" style=\"line-height: 2.5; direction: ltr\">Quiste de ovario drcho de 7 cm de diametro sugestivo de endometrioma .Dismenorrea.Dolor pelvico .</div></span>"
      ],
      "text/plain": [
       "<IPython.core.display.HTML object>"
      ]
     },
     "metadata": {},
     "output_type": "display_data"
    },
    {
     "name": "stdout",
     "output_type": "stream",
     "text": [
      "The following tokens are negated in test3:\n",
      "No negations in test 3\n"
     ]
    },
    {
     "data": {
      "text/html": [
       "<span class=\"tex2jax_ignore\"><div class=\"entities\" style=\"line-height: 2.5; direction: ltr\">Metrorragia postmenopausica.\n",
       "<mark class=\"entity\" style=\"background: #ddd; padding: 0.45em 0.6em; margin: 0 0.25em; line-height: 1; border-radius: 0.35em;\">\n",
       "    Engrosamiento endometrial\n",
       "    <span style=\"font-size: 0.8em; font-weight: bold; line-height: 1; border-radius: 0.35em; text-transform: uppercase; vertical-align: middle; margin-left: 0.5rem\">MISC</span>\n",
       "</mark>\n",
       " .</div></span>"
      ],
      "text/plain": [
       "<IPython.core.display.HTML object>"
      ]
     },
     "metadata": {},
     "output_type": "display_data"
    },
    {
     "name": "stdout",
     "output_type": "stream",
     "text": [
      "The following tokens are negated in test4:\n",
      "No negations in test 4\n"
     ]
    },
    {
     "data": {
      "text/html": [
       "<span class=\"tex2jax_ignore\"><div class=\"entities\" style=\"line-height: 2.5; direction: ltr\">\n",
       "<mark class=\"entity\" style=\"background: #ddd; padding: 0.45em 0.6em; margin: 0 0.25em; line-height: 1; border-radius: 0.35em;\">\n",
       "    hipermenorrea\n",
       "    <span style=\"font-size: 0.8em; font-weight: bold; line-height: 1; border-radius: 0.35em; text-transform: uppercase; vertical-align: middle; margin-left: 0.5rem\">PER</span>\n",
       "</mark>\n",
       " anemia mioma submucoso que \n",
       "<mark class=\"entity\" style=\"background: #ddd; padding: 0.45em 0.6em; margin: 0 0.25em; line-height: 1; border-radius: 0.35em;\">\n",
       "    no\n",
       "    <span style=\"font-size: 0.8em; font-weight: bold; line-height: 1; border-radius: 0.35em; text-transform: uppercase; vertical-align: middle; margin-left: 0.5rem\">NEG</span>\n",
       "</mark>\n",
       " responde al tto médico</div></span>"
      ],
      "text/plain": [
       "<IPython.core.display.HTML object>"
      ]
     },
     "metadata": {},
     "output_type": "display_data"
    },
    {
     "name": "stdout",
     "output_type": "stream",
     "text": [
      "The following tokens are negated in test5:\n",
      "responde\n",
      "al\n",
      "tto\n",
      "médico\n"
     ]
    }
   ],
   "source": [
    "#just noticed one mistake, not negating last item in the  line, should be easy fix\n",
    "\n",
    "from spacy import displacy\n",
    "\n",
    "testNum = 0\n",
    "\n",
    "displacy.render(line1, style = \"ent\")\n",
    "testNum += 1\n",
    "\n",
    "print(\"The following tokens are negated in test\" + str(testNum) + \":\")\n",
    "count = 0;\n",
    "for i in range(1, len(line1)):\n",
    "    if line1[i]._.negation == \"negated\":\n",
    "        count += 1\n",
    "        print(line1[i])\n",
    "if count == 0:\n",
    "    print(\"No negations in test \" + str(testNum))     \n",
    "        \n",
    "displacy.render(line2, style = \"ent\")\n",
    "testNum += 1\n",
    "\n",
    "print(\"The following tokens are negated in test\" + str(testNum) + \":\")\n",
    "count = 0;\n",
    "for i in range(1, len(line2)):\n",
    "    if line2[i]._.negation == \"negated\":\n",
    "        count += 1\n",
    "        print(line2[i])\n",
    "if count == 0:\n",
    "    print(\"No negations in test \" + str(testNum))\n",
    "    \n",
    "displacy.render(line3, style = \"ent\")\n",
    "testNum += 1\n",
    "\n",
    "print(\"The following tokens are negated in test\" + str(testNum) + \":\")\n",
    "count = 0;\n",
    "for i in range(1, len(line3)):\n",
    "    if line3[i]._.negation == \"negated\":\n",
    "        count += 1\n",
    "        print(line3[i])\n",
    "if count == 0:\n",
    "    print(\"No negations in test \" + str(testNum))\n",
    "    \n",
    "displacy.render(line4, style = \"ent\")\n",
    "testNum += 1\n",
    "\n",
    "print(\"The following tokens are negated in test\" + str(testNum) + \":\")\n",
    "count = 0;\n",
    "for i in range(1, len(line4)):\n",
    "    if line4[i]._.negation == \"negated\":\n",
    "        count += 1\n",
    "        print(lin4[i])\n",
    "        \n",
    "if count == 0:\n",
    "    print(\"No negations in test \" + str(testNum))\n",
    "        \n",
    "displacy.render(line12, style = \"ent\")\n",
    "testNum += 1\n",
    "\n",
    "print(\"The following tokens are negated in test\" + str(testNum) + \":\")\n",
    "count = 0;\n",
    "for i in range(1, len(line12)):\n",
    "    if line12[i]._.negation == \"negated\":\n",
    "        count += 1\n",
    "        print(line12[i])\n",
    "        \n",
    "if count == 0:\n",
    "    print(\"No negations in test \" + str(testNum))        \n",
    "        \n",
    "#debugging\n",
    "#print(\"debugging...\")\n",
    "#print(line1[9]._.negation)    \n",
    "#for ent in line1.ents:\n",
    "    #print(ent)\n",
    "    #print(ent.label_)\n"
   ]
  },
  {
   "cell_type": "markdown",
   "metadata": {},
   "source": [
    "####  The annotations for the above text (for validation purposes):"
   ]
  },
  {
   "cell_type": "markdown",
   "metadata": {},
   "source": [
    "T1\tNegSynMarker 52 54\tno\n",
    "T2\tDISO 55 82\tresponden al tto con Mirena\n",
    "T3\tUncertLexMarker 159 171\tsugestivo de\n",
    "T4\tDISO 172 184\tendometrioma\n",
    "T5\tUncertLexMarker 601 609\tsospecha\n",
    "T6\tPhrase 610 642\tecografica de polipo endometrial\n",
    "T7\tDISO 624 642\tpolipo endometrial\n",
    "T8\tUncertLexMarker 740 751\tsospecha de\n",
    "T9\tDISO 752 770\tpolipo endometrial\n",
    "T10\tNegSynMarker 814 816\tno\n",
    "T11\tDISO 817 839\tresponde al tto médico\n",
    "T12\tNegSynMarker 938 940\tno\n",
    "T13\tDISO 941 974\tasociado a incontinencia urinaria\n",
    "T14\tNegSynMarker 1296 1299\tsin\n",
    "T15\tPhrase 1300 1311\tconseguirlo\n",
    "R1\tScope Arg1:T1 Arg2:T2\n",
    "R2\tScope Arg1:T3 Arg2:T4\n",
    "R3\tScope Arg1:T5 Arg2:T6\n",
    "R4\tScope Arg1:T8 Arg2:T9\n",
    "R5\tScope Arg1:T10 Arg2:T11\n",
    "R6\tScope Arg1:T12 Arg2:T13\n",
    "R7\tScope Arg1:T14 Arg2:T15"
   ]
  },
  {
   "cell_type": "code",
   "execution_count": 46,
   "metadata": {},
   "outputs": [],
   "source": [
    "#validate against our main repo\n",
    "ann = reader.Annotator(nlp)\n"
   ]
  },
  {
   "cell_type": "code",
   "execution_count": null,
   "metadata": {},
   "outputs": [],
   "source": []
  }
 ],
 "metadata": {
  "kernelspec": {
   "display_name": "Python 3",
   "language": "python",
   "name": "python3"
  },
  "language_info": {
   "codemirror_mode": {
    "name": "ipython",
    "version": 3
   },
   "file_extension": ".py",
   "mimetype": "text/x-python",
   "name": "python",
   "nbconvert_exporter": "python",
   "pygments_lexer": "ipython3",
   "version": "3.7.8"
  }
 },
 "nbformat": 4,
 "nbformat_minor": 4
}

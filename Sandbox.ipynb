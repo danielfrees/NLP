print("Hola World!!")
import pandas as pd
import numpy as np
import spacy as sp
from spacy.lang.es import Spanish
from spacy.lang.en import English

data = pd.read_csv("/home/jdelahozgomez/clean_tables/v6/raw/notes/intake_cp.csv", sep = "|", low_memory = False)

#SPANISH PRACTICE

nlp = Spanish()
nlp = sp.load("es_core_news_md") 
doc = nlp("Cómo estás?")
token1 = doc[0]
print(token1)
print(doc[0:3])

# practice with a larger spanish doc


#Why does this not return anything? seems to work in english? --> A: needed all caps

doc2 = nlp("Mark está de viaje de negocios en Barcelona. Hoy tuvo un día libre y salió a visitar la ciudad. Primero, caminó por La Rambla, la calle más famosa de Barcelona, llena de gente, tiendas y restaurantes. Se dirigió al Barrio Gótico, uno de los sitios más antiguos y bellos de la ciudad. En la Plaza Sant Jaume observó dos de los edificios más importantes: El Palacio de la Generalitat de Catalunya y el Ayuntamiento.Volvió a La Rambla. Mark tenía hambre y se detuvo a comer unas tapas y beber una cerveza. Continuó hasta la grande y hermosa Plaza de Catalunya. Avanzó por el Paseo de Gràcia hasta llegar a un edificios fuera de lo común Casa Batlló y luego a Casa Milà, diseños del arquitecto Antoni Gaudí. Quiso saber más sobre este famoso arquitecto y se dirigió al Park Güell, donde tomó muchas fotografías.El día se acababa pero antes de volver al hotel, Mark tomó un taxi hacia la Fuente Mágica y disfrutó de un espectáculo de agua y luces.Mark quedó sorprendido con esta gran ciudad y sintió que le faltó tiempo para conocer más lugares interesantes. Se prometió regresar para tomar unas vacaciones con su familia.")
print (doc2[3:9])
#iterate through doc to find determiner-adjective pairs
for token in doc2:
    #if token is a determiner, check the next spot and see if there is an adjective
    if token.pos_ == "ADJ":
        next_token = doc2[token.i + 1]
        if next_token.pos_ == "NOUN":
            print(doc2[token.i: (token.i + 2)])
print(doc2.ents)

nlp = English()
nlp = sp.load("en_core_web_md")  

doc = nlp("Hi there my name is Daniel. How are you? The weather is very bad today. Dark clouds, windy weather, and tremendous rain everywhere.")
for token in doc:
    if token.pos_ == "ADJ" and doc[token.i + 1].pos_ == "NOUN":
        print(doc[token.i: token.i+2])
        


#Working with the actual data!

nlp = sp.load("es_core_news_md") 
for entry in data["enfermedad_actual"]:
    spacyDoc = nlp(entry)
    for token in spacyDoc:
        if token.pos_ == "NOUN":
            print(token, " Is a noun!")
            
#Some visualization!


nlp = sp.load("es_core_news_md")
from spacy import displacy

spanParagraph = nlp("Mark está de viaje de negocios en Barcelona. Hoy tuvo un día libre y salió a visitar la ciudad. Primero, caminó por La Rambla, la calle más famosa de Barcelona, llena de gente, tiendas y restaurantes. Se dirigió al Barrio Gótico, uno de los sitios más antiguos y bellos de la ciudad. En la Plaza Sant Jaume observó dos de los edificios más importantes: El Palacio de la Generalitat de Catalunya y el Ayuntamiento.Volvió a La Rambla. Mark tenía hambre y se detuvo a comer unas tapas y beber una cerveza. Continuó hasta la grande y hermosa Plaza de Catalunya. Avanzó por el Paseo de Gràcia hasta llegar a un edificios fuera de lo común Casa Batlló y luego a Casa Milà, diseños del arquitecto Antoni Gaudí. Quiso saber más sobre este famoso arquitecto y se dirigió al Park Güell, donde tomó muchas fotografías.El día se acababa pero antes de volver al hotel, Mark tomó un taxi hacia la Fuente Mágica y disfrutó de un espectáculo de agua y luces.Mark quedó sorprendido con esta gran ciudad y sintió que le faltó tiempo para conocer más lugares interesantes. Se prometió regresar para tomar unas vacaciones con su familia.")
displacy.render(spanParagraph, style = "dep")
displacy.render(spanParagraph, style = "ent")


#Juan's Implementation of NegEx(not my intellectual property, my own implementation is currently in progress
spacy.tokens.Span.set_extension( "concept", default = False, force=True)
spacy.tokens.Span.set_extension( "negation", default = "affirmed", force=True)
spacy.tokens.Span.set_extension( "termination", default = False, force=True)
spacy.tokens.Span.set_extension( "modifier", default = False, force=True)
spacy.tokens.Span.set_extension( "feature",     default = "-",   force=True)



def labelConceptModifier
    

def NegEx( document, neg_max_tk = 5):
    for sentence in document.sents:
        for concept in sentence.ents:
            if concept._.concept:
                
                for modifier in sentence.ents:
                    if modifier._.feature == "negation":

                        if (modifier.label_ == "NEG_PRE_fo") and (0<= (concept.start-modifier.end) <=neg_max_tk):
                            negate = True
                            for tk in range( modifier.end, concept.start):
                                if document[tk:tk+1]._.termination: negate = False
                            if negate: concept._.negation = "negated"
                                
                        if (modifier.label_ == "NEG_POS_ba") and (0<= (modifier.start-concept.end) <=neg_max_tk):
                            negate = True
                            for tk in range( concept.end, modifier.start):
                                if document[tk:tk+1]._.termination: negate = False
                            if negate: concept._.negation = "negated"

                        if (modifier.label_ == "NEG_BID_bi") and ( abs(concept.start-modifier.end) <=neg_max_tk):
                            negate = True
                            first, last = (concept, modifier) if concept.end<modifier.end else (modifier, concept)
                            for tk in range( first.end, last.start):
                                if document[tk:tk+1]._.termination: negate = False
                            if negate: concept._.negation = "negated"

    return document

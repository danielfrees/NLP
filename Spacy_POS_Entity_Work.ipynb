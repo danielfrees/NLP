import pandas as pd
import numpy as np
import spacy as spacy
from spacy.lang.es import Spanish
from spacy.lang.en import English

def rmvPOSEnts( doc, pOS = "VERB"): #takes in a doc object and gives one back, takes also a pOS tag you want to filter, defualting to verb
    
    doc.ents = [ent for ent in doc.ents if (doc[ent.start].pos_ != pOS and ent.end - ent.start == 1) or ent.end - ent.start > 1] #rewrite the ent list without any verb ents
    return doc

nlp = spacy.load("es_core_news_md")
nlp.add_pipe(rmvPOSEnts, name="pos_ent_parser", last=True) #add the pipeline component

from spacy import displacy
spanParagraph = nlp("Mark está de viaje de negocios en Barcelona. Hoy tuvo un día libre y salió a visitar la ciudad. Primero, caminó por La Rambla, la calle más famosa de Barcelona, llena de gente, tiendas y restaurantes. Se dirigió al Barrio Gótico, uno de los sitios más antiguos y bellos de la ciudad. En la Plaza Sant Jaume observó dos de los edificios más importantes: El Palacio de la Generalitat de Catalunya y el Ayuntamiento.Volvió a La Rambla. Mark tenía hambre y se detuvo a comer unas tapas y beber una cerveza. Continuó hasta la grande y hermosa Plaza de Catalunya. Avanzó por el Paseo de Gràcia hasta llegar a un edificios fuera de lo común Casa Batlló y luego a Casa Milà, diseños del arquitecto Antoni Gaudí. Quiso saber más sobre este famoso arquitecto y se dirigió al Park Güell, donde tomó muchas fotografías.El día se acababa pero antes de volver al hotel, Mark tomó un taxi hacia la Fuente Mágica y disfrutó de un espectáculo de agua y luces.Mark quedó sorprendido con esta gran ciudad y sintió que le faltó tiempo para conocer más lugares interesantes. Se prometió regresar para tomar unas vacaciones con su familia.")
displacy.render(spanParagraph, style = "ent")
#for ent in spanParagraph.ents:
   # print(ent.text)
    #print(ent.start)
    #print(ent.end)

#print(spanParagraph[85].text)
#spanParagraph[85].pos_ #okay so this function won't work because spacy actually doesn't correctly recognize the part of speech as a verb. Let me try in english...

#print(spanParagraph[115].text)
#print(spanParagraph[115].pos_)

nlp = spacy.load("en_core_web_md")
nlp.add_pipe(rmvPOSEnts, name="pos_ent_parser", last=True) #add the pipeline component

engDoc = nlp("It was July 21, 1969, and Neil Armstrong awoke with a start. It was the day he would become the first human being to ever walk on the moon. The journey had begun several days earlier, when on July 16th, the Apollo 11 launched from Earth headed into outer space. On board with Neil Armstrong were Michael Collins and Buzz Aldrin. The crew landed on the moon in the Sea of Tranquility a day before the actual walk. Upon Neil’s first step onto the moon’s surface, he declared, “That’s one small step for man, one giant leap for mankind.” It sure was!")
displacy.render(engDoc, style = "ent")

##see if the doc had any errors to start with...
nlp.remove_pipe("pos_ent_parser")
engDoc2 = nlp("It was July 21, 1969, and Neil Armstrong awoke with a start. It was the day he would become the first human being to ever walk on the moon. The journey had begun several days earlier, when on July 16th, the Apollo 11 launched from Earth headed into outer space. On board with Neil Armstrong were Michael Collins and Buzz Aldrin. The crew landed on the moon in the Sea of Tranquility a day before the actual walk. Upon Neil’s first step onto the moon’s surface, he declared, “That’s one small step for man, one giant leap for mankind.” It sure was!")
displacy.render(engDoc, style = "ent")

#just see if my logic was sound, since I can't prove that my function is working on either of these examples...
def rmvTheDay( doc ): #takes in a doc object and gives one back
    for sentence in doc.sents:
        for ent in sentence.ents:
            if (ent.end-ent.start) == 2: #only look at single token ents in this case
                ents = [ent for ent in list(doc.ents) if doc[(ent.start):(ent.end)].text != "the day"] #just get rid of the day from ents
    return doc

nlp.remove_pipe("tdTest")
nlp.add_pipe(rmvTheDay, name="tdTest", last=True) #add the pipeline component

engDoc3 = nlp("It was July 21, 1969, and Neil Armstrong awoke with a start. It was the day he would become the first human being to ever walk on the moon. The journey had begun several days earlier, when on July 16th, the Apollo 11 launched from Earth headed into outer space. On board with Neil Armstrong were Michael Collins and Buzz Aldrin. The crew landed on the moon in the Sea of Tranquility a day before the actual walk. Upon Neil’s first step onto the moon’s surface, he declared, “That’s one small step for man, one giant leap for mankind.” It sure was!")
displacy.render(engDoc3, style = "ent")
engDoc3[17:19]

#So.. I guess my logic is going wrong somewhere anyway, because I can't even remove "the day" though specifically targeted

def rmvPOSEnts( doc, pOS = "VERB"): #takes in a doc object and gives one back, takes also a pOS tag you want to filter, defualting to verb
    for ent in doc.ents:
        if ent.end-ent.start == 1: #only look at single token ents in this case
            #ents.remove(ent)
            ents = [ent for ent in list(doc.ents) if (doc[ent.start].pos_ != pOS and  ent.end - ent.start ==1] #rewrite the ent list without any verb ents
            print(doc[ent.start].text, doc[ent.start].pos_) 
    doc.ents = ents
    print( ents )
    return doc

nlp = spacy.load("es_core_news_md")
nlp.add_pipe(rmvPOSEnts, name="pos_ent_parser", last=True) #add the pipeline component

#Spanish sentence to test in NegEx implementation: "El paciente no tiene halucinaciones. Sin evidencia de haber estado consumiendo substancias."

from spacy.pipeline import EntityRuler
from spacy import displacy

nlp = spacy.load("es_core_news_md")
ruler = EntityRuler(nlp)
ruler.add_patterns([{"label": "NEG", "pattern": "no"},{"label": "NEG", "pattern": "sin"},{"label": "NEG", "pattern": "Sin"},{"label": "HAL", "pattern": "halucinaciones"},{"label": "SUB", "pattern": "substancias"}])
nlp.add_pipe(ruler)

doc = nlp("El paciente no tiene halucinaciones. Sin evidencia de haber estado consumiendo substancias.")
displacy.render(doc, 'ent')
    
    
    
    
    
    
